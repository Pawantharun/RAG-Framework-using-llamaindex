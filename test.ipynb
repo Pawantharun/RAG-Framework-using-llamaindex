{
 "cells": [
  {
   "cell_type": "code",
   "execution_count": 1,
   "metadata": {},
   "outputs": [
    {
     "data": {
      "text/plain": [
       "True"
      ]
     },
     "execution_count": 1,
     "metadata": {},
     "output_type": "execute_result"
    }
   ],
   "source": [
    "#RAG \n",
    "import os \n",
    "from dotenv import load_dotenv\n",
    "load_dotenv()"
   ]
  },
  {
   "cell_type": "code",
   "execution_count": 2,
   "metadata": {},
   "outputs": [],
   "source": [
    "os.environ['OPENAI_API_KEY']=os.getenv(\"OPENAI_API_KEY\")"
   ]
  },
  {
   "cell_type": "code",
   "execution_count": 5,
   "metadata": {},
   "outputs": [],
   "source": [
    "import os.path\n",
    "from llama_index.legacy import (\n",
    "    VectorStoreIndex,\n",
    "    SimpleDirectoryReader,\n",
    "    StorageContext,\n",
    "    load_index_from_storage,\n",
    ")\n",
    "\n",
    "# check if storage already exists\n",
    "PERSIST_DIR = \"./storage\"\n",
    "if not os.path.exists(PERSIST_DIR):\n",
    "    # load the documents and create the index\n",
    "    documents = SimpleDirectoryReader(\"Data\").load_data()\n",
    "    index = VectorStoreIndex.from_documents(documents,show_progress=True)\n",
    "    # store it for later\n",
    "    index.storage_context.persist(persist_dir=PERSIST_DIR)\n",
    "else:\n",
    "    # load the existing index\n",
    "    storage_context = StorageContext.from_defaults(persist_dir=PERSIST_DIR)\n",
    "    index = load_index_from_storage(storage_context)\n"
   ]
  },
  {
   "cell_type": "code",
   "execution_count": 23,
   "metadata": {},
   "outputs": [],
   "source": [
    "# either way we can now query the index\n",
    "from llama_index.legacy.retrievers import VectorIndexRetriever\n",
    "from llama_index.legacy.query_engine import RetrieverQueryEngine\n",
    "from llama_index.legacy.indices.postprocessor import SimilarityPostprocessor\n",
    "from llama_index.legacy.response.pprint_utils import pprint_response\n",
    "\n",
    "retriever=VectorIndexRetriever(index=index,similarity_top_k=4)\n",
    "postprocessor=SimilarityPostprocessor(similarity_cutoff=0.80)\n",
    "\n",
    "query_engine=RetrieverQueryEngine(retriever=retriever,node_postprocessors=[postprocessor])\n",
    "query_engine = index.as_query_engine()\n",
    "\n"
   ]
  },
  {
   "cell_type": "code",
   "execution_count": 43,
   "metadata": {},
   "outputs": [],
   "source": [
    "response = query_engine.query(\"For UMi-AV, what is the height of the Base Station (BS) antenna?,option_1: 10m,option_2: 25m,option_3: 35m,option_4: 50m\")"
   ]
  },
  {
   "cell_type": "code",
   "execution_count": 44,
   "metadata": {},
   "outputs": [
    {
     "name": "stdout",
     "output_type": "stream",
     "text": [
      "Final Response: The height of the Base Station (BS) antenna for the\n",
      "UMi-AV scenario is 35m.\n",
      "______________________________________________________________________\n",
      "Source Node 1/2\n",
      "Node ID: e4a1be69-3f36-4701-8956-eab9647f6e11\n",
      "Similarity: 0.8218570083405358\n",
      "Text: BS - UT distance (2D)            10m\n",
      "35m\n",
      "UT distribution (horizontal)          Uniform\n",
      "Uniform\n",
      "**Indoo...\n",
      "______________________________________________________________________\n",
      "Source Node 2/2\n",
      "Node ID: 7ad12d06-f3b9-470a-b423-d04f23f59c48\n",
      "Similarity: 0.8089293367300926\n",
      "Text: |             |             | |             |            |\n",
      "9\\log_{10}\\ |             |             | |             |            |\n",
      "left( d_{3D |             |             | |             |            |\n",
      "} \\right) + |             |             | |             |            |\n",
      "20\\log_{10 |             |             | |             |            |\n",
      "}\\le...\n",
      "The height of the Base Station (BS) antenna for the UMi-AV scenario is 35m.\n"
     ]
    }
   ],
   "source": [
    "pprint_response(response,show_source=True)\n",
    "print(response)"
   ]
  }
 ],
 "metadata": {
  "kernelspec": {
   "display_name": "Python 3",
   "language": "python",
   "name": "python3"
  },
  "language_info": {
   "codemirror_mode": {
    "name": "ipython",
    "version": 3
   },
   "file_extension": ".py",
   "mimetype": "text/x-python",
   "name": "python",
   "nbconvert_exporter": "python",
   "pygments_lexer": "ipython3",
   "version": "3.10.0"
  }
 },
 "nbformat": 4,
 "nbformat_minor": 2
}
